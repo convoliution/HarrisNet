{
 "cells": [
  {
   "cell_type": "markdown",
   "metadata": {},
   "source": [
    "## Preprocessing"
   ]
  },
  {
   "cell_type": "code",
   "execution_count": 1,
   "metadata": {
    "collapsed": true
   },
   "outputs": [],
   "source": [
    "import numpy as np"
   ]
  },
  {
   "cell_type": "markdown",
   "metadata": {},
   "source": [
    "### Identify Audio Files"
   ]
  },
  {
   "cell_type": "markdown",
   "metadata": {},
   "source": [
    "Obtain audio file names and tempos from a csv."
   ]
  },
  {
   "cell_type": "markdown",
   "metadata": {},
   "source": [
    "Audio files and the csv file are expected to be in the directory `data/`,  \n",
    "and the csv file is expected to have the names of the audio file in the first column,  \n",
    "and the tempos corresponding audio files in the second column,  \n",
    "with no header."
   ]
  },
  {
   "cell_type": "code",
   "execution_count": 3,
   "metadata": {
    "collapsed": true
   },
   "outputs": [],
   "source": [
    "dataf_dir = \"data\"\n",
    "dataf_name = \"data.csv\""
   ]
  },
  {
   "cell_type": "code",
   "execution_count": 4,
   "metadata": {
    "collapsed": true,
    "scrolled": false
   },
   "outputs": [],
   "source": [
    "# prepend directory to dataf_name if not present\n",
    "dataf_name = dataf_dir + '/' + dataf_name if dataf_name.split('/')[0] != dataf_dir else dataf_name\n",
    "\n",
    "audiofs = np.genfromtxt(dataf_name, delimiter=',', dtype='unicode')\n",
    "# prepend directory to track names if not present\n",
    "audiof_names = [dataf_dir + '/' + audiof_name if audiof_name.split('/')[0] != dataf_dir\n",
    "                else audiof_name\n",
    "                for audiof_name in audiofs[:, 0]]\n",
    "# append file extension (.wav) to track names if not present\n",
    "audiof_names = [audiof_name + \".wav\" if audiof_name.split('.')[-1] != \"wav\"\n",
    "                else audiof_name\n",
    "                for audiof_name in audiof_names]\n",
    "audiofs = np.stack((audiof_names, audiofs[:,1]), axis=1)"
   ]
  },
  {
   "cell_type": "markdown",
   "metadata": {},
   "source": [
    "### Import Audio"
   ]
  },
  {
   "cell_type": "code",
   "execution_count": 50,
   "metadata": {
    "collapsed": true
   },
   "outputs": [],
   "source": [
    "import matplotlib.pyplot as plt\n",
    "from scipy.io import wavfile\n",
    "from scipy.interpolate import interp1d\n",
    "from scipy.signal import stft, istft"
   ]
  },
  {
   "cell_type": "code",
   "execution_count": 97,
   "metadata": {
    "scrolled": false
   },
   "outputs": [
    {
     "name": "stdout",
     "output_type": "stream",
     "text": [
      "Imported data/Adventure/Isometric.wav\n",
      "Imported data/Adventure/You're On.wav\n",
      "Imported data/Adventure/OK.wav\n",
      "Imported data/Adventure/La Lune.wav\n",
      "Imported data/Adventure/Pay No Mind.wav\n",
      "Imported data/Adventure/Beings.wav\n",
      "Imported data/Adventure/Imperium.wav\n",
      "Imported data/Adventure/Zephyr.wav\n",
      "Imported data/Adventure/Nonsense.wav\n",
      "Imported data/Adventure/Innocence.wav\n",
      "Imported data/Adventure/Pixel Empire.wav\n",
      "Imported data/Adventure/Home.wav\n",
      "Imported data/Adventure/Icarus.wav\n",
      "Imported data/Adventure/Finale.wav\n",
      "Imported data/Adventure/The City.wav\n",
      "Imported data/Adventure/Cut the Kid.wav\n",
      "Imported data/Adventure/Technicolor.wav\n",
      "Imported data/Adventure/Only Way Out.wav\n",
      "Imported data/Clarity/Hourglass.wav\n",
      "Imported data/Clarity/Shave It Up.wav\n",
      "Imported data/Clarity/Spectrum.wav\n",
      "Imported data/Clarity/Lost At Sea.wav\n",
      "Imported data/Clarity/Clarity.wav\n",
      "Imported data/Clarity/Codec.wav\n",
      "Imported data/Clarity/Stache.wav\n",
      "Imported data/Clarity/Fall Into the Sky.wav\n",
      "Imported data/Clarity/Follow You Down.wav\n",
      "Imported data/Clarity/Epos.wav\n",
      "Imported data/Clarity/Stay the Night.wav\n",
      "Imported data/Clarity/Push Play.wav\n"
     ]
    }
   ],
   "source": [
    "mid_tempo = int(np.median(audiofs[:,1].astype(int)))\n",
    "clips = []\n",
    "for [audiof_name, tempo] in audiofs:\n",
    "    rate, audiof = wavfile.read(audiof_name)\n",
    "    # convert stereo to mono\n",
    "    if audiof.shape[1] == 2:\n",
    "        # type conversions to minimize risk of overflow\n",
    "        audiof = np.int16(audiof.astype(int).sum(axis=1) // 2)\n",
    "    # normalize tempo to the median of the dataset\n",
    "    tempo = int(tempo)\n",
    "    if tempo != mid_tempo:\n",
    "        audio_length = audiof.shape[0] / rate\n",
    "        intervals_old = np.linspace(0, audio_length, audiof.shape[0])\n",
    "        intervals_new = np.linspace(0, audio_length, int(audiof.shape[0]*tempo/mid_tempo))\n",
    "        # construct interpolation and resample\n",
    "        audiof = np.int16(interp1d(intervals_old, audiof)(intervals_new))\n",
    "    #TODO: produce random 10-second clips from audiof\n",
    "        pass\n",
    "        #clips.append(clip)\n",
    "    print(\"Imported \" + audiof_name)"
   ]
  },
  {
   "cell_type": "code",
   "execution_count": 19,
   "metadata": {
    "collapsed": true,
    "scrolled": false
   },
   "outputs": [],
   "source": [
    "##test\n",
    "\n",
    "rate, lalune = wavfile.read(\"data/Adventure/La Lune.wav\")\n",
    "\n",
    "lalune = np.int16(lalune.astype(int).sum(axis=1) // 2)\n",
    "\n",
    "tempo = 70\n",
    "mid_tempo = 125\n",
    "audio_length = audiof.shape[0] / rate\n",
    "intervals_old = np.linspace(0, audio_length, lalune.shape[0])\n",
    "intervals_new = np.linspace(0, audio_length, int(lalune.shape[0]*tempo/mid_tempo))\n",
    "lalune = np.int16(interp1d(intervals_old, lalune)(intervals_new))"
   ]
  },
  {
   "cell_type": "code",
   "execution_count": 86,
   "metadata": {},
   "outputs": [
    {
     "name": "stdout",
     "output_type": "stream",
     "text": [
      "(5429840,)\n",
      "(5429840,)\n"
     ]
    }
   ],
   "source": [
    "##test\n",
    "print(np.fft.fft(lalune).shape)\n",
    "print(lalune.shape)"
   ]
  },
  {
   "cell_type": "markdown",
   "metadata": {},
   "source": [
    "## Build Network"
   ]
  },
  {
   "cell_type": "code",
   "execution_count": 7,
   "metadata": {
    "collapsed": true
   },
   "outputs": [],
   "source": [
    "from keras.models import Sequential\n",
    "from keras.layers import Dense\n",
    "from keras.layers import LSTM"
   ]
  },
  {
   "cell_type": "code",
   "execution_count": null,
   "metadata": {
    "collapsed": true
   },
   "outputs": [],
   "source": [
    "model = Sequential()"
   ]
  }
 ],
 "metadata": {
  "kernelspec": {
   "display_name": "Python 3",
   "language": "python",
   "name": "python3"
  },
  "language_info": {
   "codemirror_mode": {
    "name": "ipython",
    "version": 3
   },
   "file_extension": ".py",
   "mimetype": "text/x-python",
   "name": "python",
   "nbconvert_exporter": "python",
   "pygments_lexer": "ipython3",
   "version": "3.6.0"
  }
 },
 "nbformat": 4,
 "nbformat_minor": 2
}
